{
 "cells": [
  {
   "cell_type": "code",
   "execution_count": 2,
   "metadata": {},
   "outputs": [
    {
     "name": "stdout",
     "output_type": "stream",
     "text": [
      "word -5 i\n",
      "word -4 n\n",
      "word -3 d\n",
      "word -2 e\n",
      "word -1 x\n",
      "word 0 i\n",
      "word 1 n\n",
      "word 2 d\n",
      "word 3 e\n",
      "word 4 x\n",
      "Press enter to exit.\n"
     ]
    },
    {
     "data": {
      "text/plain": [
       "''"
      ]
     },
     "execution_count": 2,
     "metadata": {},
     "output_type": "execute_result"
    }
   ],
   "source": [
    "#Printing a word in ascending order\n",
    "word = \"index\"\n",
    "high=len(word)\n",
    "low=-len(word)\n",
    "position=low\n",
    "for i in range(10):\n",
    "    print(\"word\", position, word[position])\n",
    "    position+=1\n",
    "input(\"Press enter to exit.\")"
   ]
  },
  {
   "cell_type": "code",
   "execution_count": 3,
   "metadata": {},
   "outputs": [
    {
     "name": "stdout",
     "output_type": "stream",
     "text": [
      "word 4 x\n",
      "word 3 e\n",
      "word 2 d\n",
      "word 1 n\n",
      "word 0 i\n",
      "word -1 x\n",
      "word -2 e\n",
      "word -3 d\n",
      "word -4 n\n",
      "word -5 i\n",
      "Press enter to exit.\n"
     ]
    },
    {
     "data": {
      "text/plain": [
       "''"
      ]
     },
     "execution_count": 3,
     "metadata": {},
     "output_type": "execute_result"
    }
   ],
   "source": [
    "#Printing a word in descending order\n",
    "word = \"index\"\n",
    "high=len(word)\n",
    "low=-len(word)\n",
    "position=high-1\n",
    "for i in range(10):\n",
    "    print(\"word\", position, word[position])\n",
    "    position-=1\n",
    "input(\"Press enter to exit.\")"
   ]
  },
  {
   "cell_type": "code",
   "execution_count": 1,
   "metadata": {},
   "outputs": [
    {
     "name": "stdout",
     "output_type": "stream",
     "text": [
      "Please input a message.Hello Professor!\n"
     ]
    },
    {
     "data": {
      "text/plain": [
       "'!rosseforP olleH'"
      ]
     },
     "execution_count": 1,
     "metadata": {},
     "output_type": "execute_result"
    }
   ],
   "source": [
    "#Program #2\n",
    "#Printing a user inputted message in reverse - Method #1\n",
    "#By Nico Gavrielidis\n",
    "#2/1/19\n",
    "\n",
    "Inputted_Message=input(\"Please input a message.\")\n",
    "Inputted_Message[::-1]"
   ]
  },
  {
   "cell_type": "code",
   "execution_count": 2,
   "metadata": {},
   "outputs": [
    {
     "name": "stdout",
     "output_type": "stream",
     "text": [
      "Please input a message.Hello Professor!\n",
      "Inputted_Message 15 !\n",
      "Inputted_Message 14 r\n",
      "Inputted_Message 13 o\n",
      "Inputted_Message 12 s\n",
      "Inputted_Message 11 s\n",
      "Inputted_Message 10 e\n",
      "Inputted_Message 9 f\n",
      "Inputted_Message 8 o\n",
      "Inputted_Message 7 r\n",
      "Inputted_Message 6 P\n",
      "Inputted_Message 5  \n",
      "Inputted_Message 4 o\n",
      "Inputted_Message 3 l\n",
      "Inputted_Message 2 l\n",
      "Inputted_Message 1 e\n",
      "Inputted_Message 0 H\n",
      "Press enter to exit.\n"
     ]
    },
    {
     "data": {
      "text/plain": [
       "''"
      ]
     },
     "execution_count": 2,
     "metadata": {},
     "output_type": "execute_result"
    }
   ],
   "source": [
    "#Program #2\n",
    "#Printing a user inputted message in reverse - Method #2\n",
    "#By Nico Gavrielidis\n",
    "#2/1/19\n",
    "\n",
    "Inputted_Message = input(\"Please input a message.\")\n",
    "high=len(Inputted_Message)\n",
    "low=-len(Inputted_Message)\n",
    "position=high-1\n",
    "for x in range(len(Inputted_Message)):\n",
    "    print(\"Inputted_Message\", position, Inputted_Message[position])\n",
    "    position-=1\n",
    "input(\"Press enter to exit.\")"
   ]
  },
  {
   "cell_type": "code",
   "execution_count": null,
   "metadata": {},
   "outputs": [],
   "source": []
  }
 ],
 "metadata": {
  "kernelspec": {
   "display_name": "Python 3",
   "language": "python",
   "name": "python3"
  },
  "language_info": {
   "codemirror_mode": {
    "name": "ipython",
    "version": 3
   },
   "file_extension": ".py",
   "mimetype": "text/x-python",
   "name": "python",
   "nbconvert_exporter": "python",
   "pygments_lexer": "ipython3",
   "version": "3.7.1"
  }
 },
 "nbformat": 4,
 "nbformat_minor": 2
}

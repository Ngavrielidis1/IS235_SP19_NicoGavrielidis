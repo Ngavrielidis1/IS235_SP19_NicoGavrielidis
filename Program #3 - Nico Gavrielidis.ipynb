{
 "cells": [
  {
   "cell_type": "code",
   "execution_count": 1,
   "metadata": {},
   "outputs": [],
   "source": [
    "#factor=123000\n",
    "#get rating from user (rating should be between 0-10)\n",
    "#get price from user (price should be between $100,000 and $2 million)\n",
    "#make buy or don't buy decision\n",
    "#if the price is lower than the (rating*factor), buy\n",
    "#if the price is higher than the (rating*factor), don't buy"
   ]
  },
  {
   "cell_type": "code",
   "execution_count": 12,
   "metadata": {},
   "outputs": [
    {
     "name": "stdout",
     "output_type": "stream",
     "text": [
      "Please input a rating for a particular asset. The rating should be between 0 and 10.1\n",
      "Please input the price of the same asset. The price should be between $100,000 and $2,000,000.100000\n",
      "Buy\n"
     ]
    }
   ],
   "source": [
    "factor = 123000\n",
    "rating = input(\"Please input a rating for a particular asset. The rating should be between 0 and 10.\")\n",
    "price = input(\"Please input the price of the same asset. The price should be between $100,000 and $2,000,000.\")\n",
    "if price<(rating*factor):\n",
    "    print(\"Buy\")\n",
    "if price>(rating*factor):\n",
    "    print(\"Dont Buy\")"
   ]
  },
  {
   "cell_type": "code",
   "execution_count": 3,
   "metadata": {},
   "outputs": [
    {
     "name": "stdout",
     "output_type": "stream",
     "text": [
      "Please input a rating for a particular asset. The rating should be between 0 and 10: 3\n",
      "Please input the price of the same asset. The price should be between $100,000 and $2,000,000: 1000000\n",
      "Don't Buy\n"
     ]
    }
   ],
   "source": [
    "#Program #3\n",
    "#Buying and selling based on price, rating, and factor\n",
    "#By Nico Gavrielidis\n",
    "#2/5/19\n",
    "\n",
    "#factor=123000\n",
    "factor = 123000\n",
    "#get rating from user (rating should be between 0-10)\n",
    "rating = int(input(\"Please input a rating for a particular asset. The rating should be between 0 and 10: \"))\n",
    "#get price from user (price should be between $100,000 and $2 million)\n",
    "price = int(input(\"Please input the price of the same asset. The price should be between $100,000 and $2,000,000: \"))\n",
    "#make buy or don't buy decision\n",
    "    #if the price is lower than the (rating*factor), buy\n",
    "if price<(rating*factor):\n",
    "    print(\"Buy\")\n",
    "    #if the price is higher than the (rating*factor), don't buy\n",
    "if price>(rating*factor):\n",
    "    print(\"Don't Buy\")"
   ]
  },
  {
   "cell_type": "code",
   "execution_count": null,
   "metadata": {},
   "outputs": [],
   "source": []
  }
 ],
 "metadata": {
  "kernelspec": {
   "display_name": "Python 3",
   "language": "python",
   "name": "python3"
  },
  "language_info": {
   "codemirror_mode": {
    "name": "ipython",
    "version": 3
   },
   "file_extension": ".py",
   "mimetype": "text/x-python",
   "name": "python",
   "nbconvert_exporter": "python",
   "pygments_lexer": "ipython3",
   "version": "3.7.1"
  }
 },
 "nbformat": 4,
 "nbformat_minor": 2
}

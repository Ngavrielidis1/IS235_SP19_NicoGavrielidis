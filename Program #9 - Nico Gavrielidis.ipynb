{
 "cells": [
  {
   "cell_type": "code",
   "execution_count": 5,
   "metadata": {},
   "outputs": [
    {
     "name": "stdout",
     "output_type": "stream",
     "text": [
      "5\n",
      "7\n"
     ]
    }
   ],
   "source": [
    "#Program #9\n",
    "#\"Think Python\" Chapter 7 (Iteration Exercises 7.1-7.4)\n",
    "#Nico Gavrielidis\n",
    "#3/12/19\n",
    "\n",
    "#Exercise 7.1 (Multiple Assignment)\n",
    "bruce = 5\n",
    "print (bruce)\n",
    "bruce = 7\n",
    "print (bruce)\n",
    "#Variable's value updates based on the lastest assignment\n",
    "\n",
    "a = 5\n",
    "#a and b are now equal\n",
    "b = a \n",
    "#a and b are no longer equal\n",
    "a = 3 "
   ]
  },
  {
   "cell_type": "code",
   "execution_count": 7,
   "metadata": {},
   "outputs": [
    {
     "name": "stdout",
     "output_type": "stream",
     "text": [
      "1\n"
     ]
    }
   ],
   "source": [
    "#Exercise 7.2 (Updating Variables)\n",
    "x = 0\n",
    "#Increment (adding 1 to the variable)\n",
    "x = x+1\n",
    "print (x)"
   ]
  },
  {
   "cell_type": "code",
   "execution_count": 6,
   "metadata": {},
   "outputs": [
    {
     "name": "stdout",
     "output_type": "stream",
     "text": [
      "10\n",
      "9\n",
      "8\n",
      "7\n",
      "6\n",
      "5\n",
      "4\n",
      "3\n",
      "2\n",
      "1\n",
      "Blastoff! \n",
      "\n",
      "16\n",
      "8.0\n",
      "4.0\n",
      "2.0\n"
     ]
    }
   ],
   "source": [
    "#Exercise 7.3 (The while statement)\n",
    "#While Statement #1\n",
    "#Step #1: Evaluate the condition, yielding True or False.\n",
    "#Step #2: If the condition is false, exit the while statement and continue execution at the next statement.\n",
    "#Step #3: If the condition is true, execute the body and then go back to step 1.\n",
    "n = 10\n",
    "#def countdown(n):\n",
    "while n > 0:\n",
    "    print (n)\n",
    "    n = n-1\n",
    "print (\"Blastoff! \\n\")\n",
    "\n",
    "#While Statement #2\n",
    "n = 16\n",
    "#def sequence(n):\n",
    "while n != 1:\n",
    "    print (n)\n",
    "    if n%2 == 0: #n is even\n",
    "        n = n/2\n",
    "    else: #n is odd\n",
    "        n = n*3+1"
   ]
  },
  {
   "cell_type": "code",
   "execution_count": 14,
   "metadata": {},
   "outputs": [
    {
     "name": "stdout",
     "output_type": "stream",
     "text": [
      "> not done\n",
      "not done\n",
      "> done\n",
      "Done!\n"
     ]
    }
   ],
   "source": [
    "#Exercise 7.4 (Break)\n",
    "#Allows programer to jump out of a loop whenever they want\n",
    "while True:\n",
    "    line = input(\"> \")\n",
    "    if line == \"done\":\n",
    "        break\n",
    "    print (line)\n",
    "print (\"Done!\")"
   ]
  }
 ],
 "metadata": {
  "kernelspec": {
   "display_name": "Python 3",
   "language": "python",
   "name": "python3"
  },
  "language_info": {
   "codemirror_mode": {
    "name": "ipython",
    "version": 3
   },
   "file_extension": ".py",
   "mimetype": "text/x-python",
   "name": "python",
   "nbconvert_exporter": "python",
   "pygments_lexer": "ipython3",
   "version": "3.7.1"
  }
 },
 "nbformat": 4,
 "nbformat_minor": 2
}

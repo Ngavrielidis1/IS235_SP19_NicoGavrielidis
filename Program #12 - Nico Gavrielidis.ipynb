{
 "cells": [
  {
   "cell_type": "code",
   "execution_count": 1,
   "metadata": {},
   "outputs": [
    {
     "name": "stdout",
     "output_type": "stream",
     "text": [
      "You are empty-handed.\n",
      "\n",
      "Press the enter key to continue.\n",
      "\n",
      "The tuple inventory is:\n",
      " ('Sword', 'Armor', 'Shield', 'Healing Potion')\n",
      "\n",
      "Your items:\n",
      "Sword\n",
      "Armor\n",
      "Shield\n",
      "Healing Potion\n",
      "Press the enter key to exit.\n"
     ]
    },
    {
     "data": {
      "text/plain": [
       "''"
      ]
     },
     "execution_count": 1,
     "metadata": {},
     "output_type": "execute_result"
    }
   ],
   "source": [
    "#Program #12\n",
    "#\"Python Programmming for the Absoulte Beginner\" Chapter 4: Pages 113-120\n",
    "#Nico Gavrielidis\n",
    "#4/5/19\n",
    "\n",
    "#Tuples\n",
    "\n",
    "#Hero's Inventory\n",
    "#Demonstrates Tuple Creation\n",
    "\n",
    "#Create an empty tuple\n",
    "inventory = ()\n",
    "\n",
    "#Treat the tuple as a condition\n",
    "if not inventory:\n",
    "    print (\"You are empty-handed.\")\n",
    "    \n",
    "input(\"\\nPress the enter key to continue.\")\n",
    "\n",
    "#Create a tuple with some items\n",
    "inventory = (\"Sword\", \"Armor\", \"Shield\", \"Healing Potion\")\n",
    "\n",
    "#Print the tuple\n",
    "print (\"\\nThe tuple inventory is:\\n\", inventory)\n",
    "\n",
    "#Print each element in the tuple\n",
    "print (\"\\nYour items:\")\n",
    "for item in inventory:\n",
    "    print (item)\n",
    "    \n",
    "input(\"Press the enter key to exit.\")"
   ]
  },
  {
   "cell_type": "code",
   "execution_count": 13,
   "metadata": {},
   "outputs": [
    {
     "name": "stdout",
     "output_type": "stream",
     "text": [
      "Your items:\n",
      "Sword\n",
      "Armor\n",
      "Shield\n",
      "Healing Potion\n",
      "Press the enter key to continue.\n",
      "Your have 4 items in your possession.\n",
      "Press the enter key to continue.\n",
      "You will live to fight another day.\n",
      "\n",
      "Enter the index number for an item in inventory: 1\n",
      "At index 1 is Armor\n",
      "\n",
      "Enter the index number to begin a slice:1\n",
      "\n",
      "Enter the index number to end the slice:3\n",
      "inventory[ 1 : 3 ]\t\t\n",
      "('Armor', 'Shield')\n",
      "Press the enter key to continue.\n"
     ]
    },
    {
     "data": {
      "text/plain": [
       "''"
      ]
     },
     "execution_count": 13,
     "metadata": {},
     "output_type": "execute_result"
    }
   ],
   "source": [
    "#Hero's Inventory 2.0\n",
    "#Demonstrates Tuple Creation\n",
    "\n",
    "#Create an empty tuple\n",
    "inventory = ()\n",
    "\n",
    "#Create a tuple with some items and display with a for loop\n",
    "inventory = (\"Sword\", \"Armor\", \"Shield\", \"Healing Potion\")\n",
    "print(\"Your items:\")\n",
    "for item in inventory:\n",
    "    print (item)\n",
    "    \n",
    "input(\"Press the enter key to continue.\")\n",
    "\n",
    "#Get the length of a tuple\n",
    "print (\"Your have\", len(inventory), \"items in your possession.\")\n",
    "\n",
    "input(\"Press the enter key to continue.\")\n",
    "\n",
    "#Test for membership with in\n",
    "if \"Healing Potion\" in inventory:\n",
    "    print (\"You will live to fight another day.\")\n",
    "    \n",
    "#Display one item through an index\n",
    "index = int(input(\"\\nEnter the index number for an item in inventory: \"))\n",
    "print (\"At index\", index, \"is\", inventory[index])\n",
    "\n",
    "#Display a slice\n",
    "begin = int(input(\"\\nEnter the index number to begin a slice:\"))\n",
    "end = int(input(\"\\nEnter the index number to end the slice:\"))\n",
    "print(\"inventory[\", begin, \":\", end, \"]\\t\\t\")\n",
    "print(inventory[begin:end])\n",
    "\n",
    "input(\"Press the enter key to exit.\")"
   ]
  },
  {
   "cell_type": "code",
   "execution_count": 14,
   "metadata": {},
   "outputs": [
    {
     "name": "stdout",
     "output_type": "stream",
     "text": [
      "('Sword', 'Armor', 'Shield', 'Healing Potion')\n"
     ]
    },
    {
     "ename": "TypeError",
     "evalue": "'tuple' object does not support item assignment",
     "output_type": "error",
     "traceback": [
      "\u001b[1;31m---------------------------------------------------------------------------\u001b[0m",
      "\u001b[1;31mTypeError\u001b[0m                                 Traceback (most recent call last)",
      "\u001b[1;32m<ipython-input-14-fdcda27ebafc>\u001b[0m in \u001b[0;36m<module>\u001b[1;34m\u001b[0m\n\u001b[0;32m      4\u001b[0m \u001b[0mprint\u001b[0m\u001b[1;33m(\u001b[0m\u001b[0minventory\u001b[0m\u001b[1;33m)\u001b[0m\u001b[1;33m\u001b[0m\u001b[1;33m\u001b[0m\u001b[0m\n\u001b[0;32m      5\u001b[0m \u001b[1;33m\u001b[0m\u001b[0m\n\u001b[1;32m----> 6\u001b[1;33m \u001b[0minventory\u001b[0m\u001b[1;33m[\u001b[0m\u001b[1;36m0\u001b[0m\u001b[1;33m]\u001b[0m \u001b[1;33m=\u001b[0m \u001b[1;34m\"Battle Ax\"\u001b[0m\u001b[1;33m\u001b[0m\u001b[1;33m\u001b[0m\u001b[0m\n\u001b[0m",
      "\u001b[1;31mTypeError\u001b[0m: 'tuple' object does not support item assignment"
     ]
    }
   ],
   "source": [
    "#Tuple Immutability (Cannot change part of a tuple)\n",
    "\n",
    "inventory = (\"Sword\", \"Armor\", \"Shield\", \"Healing Potion\")\n",
    "print(inventory)\n",
    "\n",
    "inventory[0] = \"Battle Ax\""
   ]
  },
  {
   "cell_type": "code",
   "execution_count": 1,
   "metadata": {},
   "outputs": [
    {
     "name": "stdout",
     "output_type": "stream",
     "text": [
      "You find a chest. It contains:\n",
      "('Gold', 'Gems')\n",
      "You add the contents of the chest to your inventory.\n",
      "Your inventory is now:\n",
      "('Sword', 'Armor', 'Shield', 'Healing Potion', 'Gold', 'Gems')\n",
      "Press the enter key to exit.\n"
     ]
    },
    {
     "data": {
      "text/plain": [
       "''"
      ]
     },
     "execution_count": 1,
     "metadata": {},
     "output_type": "execute_result"
    }
   ],
   "source": [
    "#Concatenating Tuples\n",
    "\n",
    "inventory = (\"Sword\", \"Armor\", \"Shield\", \"Healing Potion\")\n",
    "chest = (\"Gold\", \"Gems\")\n",
    "print(\"You find a chest. It contains:\")\n",
    "print(chest)\n",
    "print(\"You add the contents of the chest to your inventory.\")\n",
    "inventory += chest\n",
    "print(\"Your inventory is now:\")\n",
    "\n",
    "print(inventory)\n",
    "\n",
    "input(\"Press the enter key to exit.\")"
   ]
  },
  {
   "cell_type": "code",
   "execution_count": null,
   "metadata": {},
   "outputs": [],
   "source": []
  }
 ],
 "metadata": {
  "kernelspec": {
   "display_name": "Python 3",
   "language": "python",
   "name": "python3"
  },
  "language_info": {
   "codemirror_mode": {
    "name": "ipython",
    "version": 3
   },
   "file_extension": ".py",
   "mimetype": "text/x-python",
   "name": "python",
   "nbconvert_exporter": "python",
   "pygments_lexer": "ipython3",
   "version": "3.7.1"
  }
 },
 "nbformat": 4,
 "nbformat_minor": 2
}

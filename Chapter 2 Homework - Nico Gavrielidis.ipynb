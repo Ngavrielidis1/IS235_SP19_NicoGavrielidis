{
 "cells": [
  {
   "cell_type": "code",
   "execution_count": 1,
   "metadata": {},
   "outputs": [
    {
     "name": "stdout",
     "output_type": "stream",
     "text": [
      "If a pregnant hippo weighing 2,000 pounds, gives birth to a 100 pound calf, but then eats 50 pounds of food, how much does she weigh\n",
      "Press the ente key to find out.\n",
      "2000 - 100 + 50 = \n",
      "1850\n"
     ]
    }
   ],
   "source": [
    "print(\"If a pregnant hippo weighing 2,000 pounds, gives birth to a 100 pound calf, but then eats 50 pounds of food, how much does she weigh\")\n",
    "input(\"Press the ente key to find out.\")\n",
    "print(\"2000 - 100 + 50 = \")\n",
    "print(2000 - 100 - 50)"
   ]
  },
  {
   "cell_type": "code",
   "execution_count": null,
   "metadata": {},
   "outputs": [],
   "source": [
    "print(\"If a pregnant hippo weighing 2,000 pounds, gives birth to a 100 pound calf, but then eats 50 pounds of food, how much does she weigh\")\n",
    "input(\"Press the enter key to find out.\")\n",
    "print(\"2000 - 100 + 50 = \")\n",
    "print(2000 - 100 - 50)"
   ]
  },
  {
   "cell_type": "code",
   "execution_count": 3,
   "metadata": {},
   "outputs": [
    {
     "name": "stdout",
     "output_type": "stream",
     "text": [
      "If a pregnant hippo weighing 2,000 pounds, gives birth to a 100 pound calf, but then eats 50 pounds of food, how much does she weigh\n",
      "Press the enter key to find out.\n",
      "2000 - 100 + 50 = \n",
      "1850 pounds\n"
     ]
    }
   ],
   "source": [
    "print(\"If a pregnant hippo weighing 2,000 pounds, gives birth to a 100 pound calf, but then eats 50 pounds of food, how much does she weigh\")\n",
    "input(\"Press the enter key to find out.\")\n",
    "print(\"2000 - 100 + 50 = \")\n",
    "print(2000 - 100 + 50, \"pounds\")"
   ]
  },
  {
   "cell_type": "code",
   "execution_count": null,
   "metadata": {},
   "outputs": [],
   "source": [
    "print(\\\n",
    "     \"\"\"If an adventurer returns from a succesful quest and buys each of 6 companions 3 bottles of ale, how many bottles does the adventurer buy?\"\"\")\n",
    "input(\"Press the enter key to find out.\")\n",
    "print(\"6 * 3 =\")\n",
    "print(6*3)"
   ]
  },
  {
   "cell_type": "code",
   "execution_count": null,
   "metadata": {},
   "outputs": [],
   "source": [
    "print(\"If an adventurer returns from a succesful quest and buys each of 6 companions 3 bottles of ale, how many bottles does the adventurer buy?\")\n",
    "input(\"Press the enter key to find out.\")\n",
    "print(\"6 * 3 =\")\n",
    "print(6*3)"
   ]
  },
  {
   "cell_type": "code",
   "execution_count": null,
   "metadata": {},
   "outputs": [],
   "source": [
    "print(\"If an adventurer returns from a succesful quest and buys each of 6 companions 3 bottles of ale, how many bottles does the adventurer buy?\")\n",
    "input(\"Press the enter key to find out.\")\n",
    "print(\"6 * 3 =\")\n",
    "print(6*3)"
   ]
  },
  {
   "cell_type": "code",
   "execution_count": null,
   "metadata": {},
   "outputs": [],
   "source": [
    "print(\"If a kid has 24 pieces of Halloween candy and eats 6 pieces a day, how many days will the stash last?\")"
   ]
  },
  {
   "cell_type": "code",
   "execution_count": null,
   "metadata": {},
   "outputs": [],
   "source": [
    "Print(1+2)"
   ]
  },
  {
   "cell_type": "code",
   "execution_count": null,
   "metadata": {},
   "outputs": [],
   "source": [
    "print(1+2)"
   ]
  },
  {
   "cell_type": "code",
   "execution_count": 1,
   "metadata": {},
   "outputs": [
    {
     "name": "stdout",
     "output_type": "stream",
     "text": [
      "3\n"
     ]
    }
   ],
   "source": [
    "print(1+2)"
   ]
  },
  {
   "cell_type": "code",
   "execution_count": 2,
   "metadata": {},
   "outputs": [
    {
     "name": "stdout",
     "output_type": "stream",
     "text": [
      "If a kid has 24 pieces of Halloween candy and eats 6 pieces a day, how many days will the stash last?\n"
     ]
    }
   ],
   "source": [
    "print(\"If a kid has 24 pieces of Halloween candy and eats 6 pieces a day, how many days will the stash last?\")"
   ]
  },
  {
   "cell_type": "code",
   "execution_count": 3,
   "metadata": {},
   "outputs": [
    {
     "name": "stdout",
     "output_type": "stream",
     "text": [
      "If a kid has 24 pieces of Halloween candy and eats 6 pieces a day, how many days will the stash last?\n",
      "Press the enter key to find out.\n",
      "24 * 6 =\n",
      "4.0\n"
     ]
    }
   ],
   "source": [
    "print(\"If a kid has 24 pieces of Halloween candy and eats 6 pieces a day, how many days will the stash last?\")\n",
    "input(\"Press the enter key to find out.\")\n",
    "print(\"24 * 6 =\")\n",
    "print(24/6)"
   ]
  },
  {
   "cell_type": "code",
   "execution_count": 4,
   "metadata": {},
   "outputs": [
    {
     "name": "stdout",
     "output_type": "stream",
     "text": [
      "If a kid has 24 pieces of Halloween candy and eats 6 pieces a day, how many days will the stash last?\n",
      "Press the enter key to find out.\n",
      "24 * 6 =\n",
      "4.0 days\n"
     ]
    }
   ],
   "source": [
    "print(\"If a kid has 24 pieces of Halloween candy and eats 6 pieces a day, how many days will the stash last?\")\n",
    "input(\"Press the enter key to find out.\")\n",
    "print(\"24 * 6 =\")\n",
    "print(24/6, \"days\")"
   ]
  },
  {
   "cell_type": "code",
   "execution_count": 5,
   "metadata": {},
   "outputs": [
    {
     "name": "stdout",
     "output_type": "stream",
     "text": [
      "If an adventurer returns from a succesful quest and buys each of 6 companions 3 bottles of ale, how many bottles does the adventurer buy?\n",
      "Press the enter key to find out.\n",
      "6 * 3 =\n",
      "18 bottles\n"
     ]
    }
   ],
   "source": [
    "print(\"If an adventurer returns from a succesful quest and buys each of 6 companions 3 bottles of ale, how many bottles does the adventurer buy?\")\n",
    "input(\"Press the enter key to find out.\")\n",
    "print(\"6 * 3 =\")\n",
    "print(6*3, \"bottles\")"
   ]
  },
  {
   "cell_type": "code",
   "execution_count": 6,
   "metadata": {},
   "outputs": [
    {
     "name": "stdout",
     "output_type": "stream",
     "text": [
      "If a group of 4 pirates finds a chest full of 107 gold coins, and they divide the booty evenly, how many coins will be left over?\n",
      "Press the enter key to find out.\n",
      "107 % 4 =\n",
      "3 coins\n"
     ]
    }
   ],
   "source": [
    "print(\"If a group of 4 pirates finds a chest full of 107 gold coins, and they divide the booty evenly, how many coins will be left over?\")\n",
    "input(\"Press the enter key to find out.\")\n",
    "print(\"107 % 4 =\")\n",
    "print(107 % 4 , \"coins\")"
   ]
  },
  {
   "cell_type": "code",
   "execution_count": 7,
   "metadata": {},
   "outputs": [
    {
     "name": "stdout",
     "output_type": "stream",
     "text": [
      "If a pregnant hippo weighing 2,000 pounds, gives birth to a 100 pound calf, but then eats 50 pounds of food, how much does she weigh\n",
      "Press the enter key to find out.\n",
      "2000 - 100 + 50 = \n",
      "1950 pounds\n"
     ]
    }
   ],
   "source": [
    "print(\"If a pregnant hippo weighing 2,000 pounds, gives birth to a 100 pound calf, but then eats 50 pounds of food, how much does she weigh\")\n",
    "input(\"Press the enter key to find out.\")\n",
    "print(\"2000 - 100 + 50 = \")\n",
    "print(2000 - 100 + 50, \"pounds\")"
   ]
  },
  {
   "cell_type": "code",
   "execution_count": 8,
   "metadata": {},
   "outputs": [
    {
     "name": "stdout",
     "output_type": "stream",
     "text": [
      "If a resturant check comes to 19 dollars with tip, and you and your friends spilt it evenly 4 ways, how much do you each throw in?\n",
      "Press the enter key to find out.\n",
      "19 / 4 = \n",
      "4.75\n",
      "WRONG!\n",
      "Press the enter key for the right answer.\n",
      "4.75 dollars\n",
      "\n",
      "\n",
      "Press the enter key to exit.\n"
     ]
    },
    {
     "data": {
      "text/plain": [
       "''"
      ]
     },
     "execution_count": 8,
     "metadata": {},
     "output_type": "execute_result"
    }
   ],
   "source": [
    "print(\"If a resturant check comes to 19 dollars with tip, and you and your friends spilt it evenly 4 ways, how much do you each throw in?\")\n",
    "input(\"Press the enter key to find out.\")\n",
    "print(\"19 / 4 = \")\n",
    "print(19/4)\n",
    "print(\"WRONG!\")\n",
    "input(\"Press the enter key for the right answer.\")\n",
    "print(19.0/4, \"dollars\")\n",
    "input(\"\\n\\nPress the enter key to exit.\")"
   ]
  },
  {
   "cell_type": "code",
   "execution_count": 9,
   "metadata": {},
   "outputs": [
    {
     "name": "stdout",
     "output_type": "stream",
     "text": [
      "If a pregnant hippo weighing 2,000 pounds, gives birth to a 100 pound calf, but then eats 50 pounds of food, how much does she weigh\n",
      "Press the enter key to find out.\n",
      "2000 - 100 + 50 = \n",
      "1950 pounds\n",
      "If an adventurer returns from a succesful quest and buys each of 6 companions 3 bottles of ale, how many bottles does the adventurer buy?\n",
      "Press the enter key to find out.\n",
      "6 * 3 =\n",
      "18 bottles\n",
      "If a kid has 24 pieces of Halloween candy and eats 6 pieces a day, how many days will the stash last?\n",
      "Press the enter key to find out.\n",
      "24 * 6 =\n",
      "4.0 days\n",
      "If a group of 4 pirates finds a chest full of 107 gold coins, and they divide the booty evenly, how many coins will be left over?\n",
      "Press the enter key to find out.\n",
      "107 % 4 =\n",
      "3 coins\n",
      "If a resturant check comes to 19 dollars with tip, and you and your friends spilt it evenly 4 ways, how much do you each throw in?\n",
      "Press the enter key to find out.\n",
      "19 / 4 = \n",
      "4.75\n",
      "WRONG!\n",
      "Press the enter key for the right answer.\n",
      "4.75 dollars\n",
      "\n",
      "\n",
      "Press the enter key to exit.\n"
     ]
    },
    {
     "data": {
      "text/plain": [
       "''"
      ]
     },
     "execution_count": 9,
     "metadata": {},
     "output_type": "execute_result"
    }
   ],
   "source": [
    "print(\"If a pregnant hippo weighing 2,000 pounds, gives birth to a 100 pound calf, but then eats 50 pounds of food, how much does she weigh?\")\n",
    "input(\"Press the enter key to find out.\")\n",
    "print(\"2000 - 100 + 50 = \")\n",
    "print(2000 - 100 + 50, \"pounds\")\n",
    "print(\"If an adventurer returns from a succesful quest and buys each of 6 companions 3 bottles of ale, how many bottles does the adventurer buy?\")\n",
    "input(\"Press the enter key to find out.\")\n",
    "print(\"6 * 3 =\")\n",
    "print(6*3, \"bottles\")\n",
    "print(\"If a kid has 24 pieces of Halloween candy and eats 6 pieces a day, how many days will the stash last?\")\n",
    "input(\"Press the enter key to find out.\")\n",
    "print(\"24 * 6 =\")\n",
    "print(24/6, \"days\")\n",
    "print(\"If a group of 4 pirates finds a chest full of 107 gold coins, and they divide the booty evenly, how many coins will be left over?\")\n",
    "input(\"Press the enter key to find out.\")\n",
    "print(\"107 % 4 =\")\n",
    "print(107 % 4 , \"coins\")\n",
    "print(\"If a resturant check comes to 19 dollars with tip, and you and your friends spilt it evenly 4 ways, how much do you each throw in?\")\n",
    "input(\"Press the enter key to find out.\")\n",
    "print(\"19 / 4 = \")\n",
    "print(19/4)\n",
    "print(\"WRONG!\")\n",
    "input(\"Press the enter key for the right answer.\")\n",
    "print(19.0/4, \"dollars\")\n",
    "input(\"\\n\\nPress the enter key to exit.\")"
   ]
  },
  {
   "cell_type": "code",
   "execution_count": 10,
   "metadata": {},
   "outputs": [
    {
     "name": "stdout",
     "output_type": "stream",
     "text": [
      "If a pregnant hippo weighing 2,000 pounds, gives birth to a 100 pound calf, but then eats 50 pounds of food, how much does she weigh?\n",
      "Press the enter key to find out.\n",
      "2000 - 100 + 50 = \n",
      "1950 pounds\n",
      "If an adventurer returns from a succesful quest and buys each of 6 companions 3 bottles of ale, how many bottles does the adventurer buy?\n",
      "Press the enter key to find out.\n",
      "6 * 3 =\n",
      "18 bottles\n",
      "If a kid has 24 pieces of Halloween candy and eats 6 pieces a day, how many days will the stash last?\n",
      "Press the enter key to find out.\n",
      "24 * 6 =\n",
      "4.0 days\n",
      "If a group of 4 pirates finds a chest full of 107 gold coins, and they divide the booty evenly, how many coins will be left over?\n",
      "Press the enter key to find out.\n",
      "107 % 4 =\n",
      "3 coins\n",
      "If a resturant check comes to 19 dollars with tip, and you and your friends spilt it evenly 4 ways, how much do you each throw in?\n",
      "Press the enter key to find out.\n",
      "19 / 4 = \n",
      "4.75\n",
      "WRONG!\n",
      "Press the enter key for the right answer.\n",
      "4.75 dollars\n",
      "\n",
      "\n",
      "Press the enter key to exit.\n"
     ]
    },
    {
     "data": {
      "text/plain": [
       "''"
      ]
     },
     "execution_count": 10,
     "metadata": {},
     "output_type": "execute_result"
    }
   ],
   "source": [
    "print(\"If a pregnant hippo weighing 2,000 pounds, gives birth to a 100 pound calf, but then eats 50 pounds of food, how much does she weigh?\")\n",
    "input(\"Press the enter key to find out.\")\n",
    "print(\"2000 - 100 + 50 = \")\n",
    "print(2000 - 100 + 50, \"pounds\")\n",
    "print(\"If an adventurer returns from a succesful quest and buys each of 6 companions 3 bottles of ale, how many bottles does the adventurer buy?\")\n",
    "input(\"Press the enter key to find out.\")\n",
    "print(\"6 * 3 =\")\n",
    "print(6*3, \"bottles\")\n",
    "print(\"If a kid has 24 pieces of Halloween candy and eats 6 pieces a day, how many days will the stash last?\")\n",
    "input(\"Press the enter key to find out.\")\n",
    "print(\"24 * 6 =\")\n",
    "print(24/6, \"days\")\n",
    "print(\"If a group of 4 pirates finds a chest full of 107 gold coins, and they divide the booty evenly, how many coins will be left over?\")\n",
    "input(\"Press the enter key to find out.\")\n",
    "print(\"107 % 4 =\")\n",
    "print(107 % 4 , \"coins\")\n",
    "print(\"If a resturant check comes to 19 dollars with tip, and you and your friends spilt it evenly 4 ways, how much do you each throw in?\")\n",
    "input(\"Press the enter key to find out.\")\n",
    "print(\"19 / 4 = \")\n",
    "print(19/4)\n",
    "print(\"WRONG!\")\n",
    "input(\"Press the enter key for the right answer.\")\n",
    "print(19.0/4, \"dollars\")\n",
    "input(\"\\n\\nPress the enter key to exit.\")"
   ]
  },
  {
   "cell_type": "code",
   "execution_count": null,
   "metadata": {},
   "outputs": [],
   "source": []
  }
 ],
 "metadata": {
  "kernelspec": {
   "display_name": "Python 3",
   "language": "python",
   "name": "python3"
  },
  "language_info": {
   "codemirror_mode": {
    "name": "ipython",
    "version": 3
   },
   "file_extension": ".py",
   "mimetype": "text/x-python",
   "name": "python",
   "nbconvert_exporter": "python",
   "pygments_lexer": "ipython3",
   "version": "3.7.1"
  }
 },
 "nbformat": 4,
 "nbformat_minor": 2
}

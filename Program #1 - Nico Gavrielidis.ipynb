{
 "cells": [
  {
   "cell_type": "code",
   "execution_count": 3,
   "metadata": {},
   "outputs": [
    {
     "name": "stdout",
     "output_type": "stream",
     "text": [
      "Hi, What's your name?Nico\n",
      "And how old are you?21\n",
      "Okay, last question. How many pounds do you weigh?165\n",
      "If poet EE Cummings were to e-mail you, he'd address you as nico\n",
      "But if EE were mad, he'd call you NICO\n",
      "Did you know that you're just 3.0 in dog years?\n",
      "But you're also over 662256000 seconds old.\n",
      "If a small child were trying to get your attention, your name would be become...\n",
      "NicoNicoNicoNicoNico\n",
      "Did you know that on the moon you would weigh only 27.5 pounds?\n",
      "But on the sun you'd weigh, 4471.5 pounds (but, ah... not for long).\n",
      "Press the enter key to exit.\n"
     ]
    },
    {
     "data": {
      "text/plain": [
       "''"
      ]
     },
     "execution_count": 3,
     "metadata": {},
     "output_type": "execute_result"
    }
   ],
   "source": [
    "#Useless Trivia Program\n",
    "#Program gets personal information from the user and then prints true, but useless facts about him or her\n",
    "#By, Nico Gavrielidis\n",
    "\n",
    "name = input(\"Hi, What's your name?\")\n",
    "\n",
    "age = input(\"And how old are you?\")\n",
    "age = int(age)\n",
    "\n",
    "weight = input(\"Okay, last question. How many pounds do you weigh?\")\n",
    "weight = int(weight)\n",
    "\n",
    "print(\"If poet EE Cummings were to e-mail you, he'd address you as\", name.lower())\n",
    "\n",
    "ee_mad = name.upper()\n",
    "print(\"But if EE were mad, he'd call you\", ee_mad)\n",
    "\n",
    "dog_years = age/7\n",
    "print(\"Did you know that you're just\", dog_years, \"in dog years?\")\n",
    "\n",
    "seconds = age * 365 * 24 * 60 * 60 \n",
    "print(\"But you're also over\", seconds, \"seconds old.\")\n",
    "\n",
    "called = name * 5\n",
    "print(\"If a small child were trying to get your attention, your name would be become...\")\n",
    "print(called)\n",
    "\n",
    "moon_weight = weight / 6.0\n",
    "print(\"Did you know that on the moon you would weigh only\", moon_weight, \"pounds?\")\n",
    "\n",
    "sun_weight = weight *27.1\n",
    "print(\"But on the sun you'd weigh,\", sun_weight, \"pounds (but, ah... not for long).\")\n",
    "\n",
    "input(\"Press the enter key to exit.\")\n"
   ]
  },
  {
   "cell_type": "code",
   "execution_count": null,
   "metadata": {},
   "outputs": [],
   "source": []
  }
 ],
 "metadata": {
  "kernelspec": {
   "display_name": "Python 3",
   "language": "python",
   "name": "python3"
  },
  "language_info": {
   "codemirror_mode": {
    "name": "ipython",
    "version": 3
   },
   "file_extension": ".py",
   "mimetype": "text/x-python",
   "name": "python",
   "nbconvert_exporter": "python",
   "pygments_lexer": "ipython3",
   "version": "3.7.1"
  }
 },
 "nbformat": 4,
 "nbformat_minor": 2
}
